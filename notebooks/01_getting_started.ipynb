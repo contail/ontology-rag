{
 "cells": [
  {
   "cell_type": "markdown",
   "metadata": {},
   "source": [
    "# 🧠 Ontology RAG - Getting Started\n",
    "\n",
    "이 노트북에서는 Ontology RAG 시스템의 기본 사용법을 배웁니다."
   ]
  },
  {
   "cell_type": "markdown",
   "metadata": {},
   "source": [
    "## 1. 환경 설정"
   ]
  },
  {
   "cell_type": "code",
   "execution_count": null,
   "metadata": {},
   "outputs": [],
   "source": [
    "import os\n",
    "from dotenv import load_dotenv\n",
    "\n",
    "# Load environment variables\n",
    "load_dotenv()\n",
    "\n",
    "print(f\"LLM Base URL: {os.getenv('LLM_BASE_URL')}\")\n",
    "print(f\"LLM Model: {os.getenv('LLM_MODEL')}\")"
   ]
  },
  {
   "cell_type": "markdown",
   "metadata": {},
   "source": [
    "## 2. RAG 엔진 초기화"
   ]
  },
  {
   "cell_type": "code",
   "execution_count": null,
   "metadata": {},
   "outputs": [],
   "source": [
    "from ontology_rag.core.rag_engine import RAGEngine\n",
    "from ontology_rag.embeddings.client import EmbeddingClient\n",
    "from ontology_rag.storage.vector_store import VectorStore\n",
    "\n",
    "# Setup components\n",
    "llm_base_url = os.getenv(\"LLM_BASE_URL\", \"http://localhost:11434\")\n",
    "llm_model = os.getenv(\"LLM_MODEL\", \"qwen2.5vl:72b\")\n",
    "embed_model = os.getenv(\"EMBED_MODEL\", \"mxbai-embed-large\")\n",
    "\n",
    "embedder = EmbeddingClient(base_url=llm_base_url, model=embed_model)\n",
    "store = VectorStore(collection_name=\"tutorial\")\n",
    "\n",
    "rag = RAGEngine(\n",
    "    llm_base_url=llm_base_url,\n",
    "    llm_model=llm_model,\n",
    "    embedding_client=embedder,\n",
    "    vector_store=store,\n",
    ")\n",
    "\n",
    "print(\"✓ RAG Engine initialized\")"
   ]
  },
  {
   "cell_type": "markdown",
   "metadata": {},
   "source": [
    "## 3. 문서 추가"
   ]
  },
  {
   "cell_type": "code",
   "execution_count": null,
   "metadata": {},
   "outputs": [],
   "source": [
    "# Sample documents about ontology\n",
    "documents = [\n",
    "    \"온톨로지는 특정 도메인의 개념과 관계를 형식적으로 표현한 지식 체계입니다.\",\n",
    "    \"RDF는 Resource Description Framework의 약자로, 웹 리소스를 기술하기 위한 프레임워크입니다.\",\n",
    "    \"OWL은 Web Ontology Language로, 복잡한 온톨로지를 표현하기 위한 W3C 표준입니다.\",\n",
    "    \"온톨로지 추론은 명시적으로 정의되지 않은 지식을 논리적으로 도출하는 과정입니다.\",\n",
    "]\n",
    "\n",
    "rag.add_documents(documents)\n",
    "print(f\"✓ Added {len(documents)} documents\")"
   ]
  },
  {
   "cell_type": "markdown",
   "metadata": {},
   "source": [
    "## 4. 질문하기"
   ]
  },
  {
   "cell_type": "code",
   "execution_count": null,
   "metadata": {},
   "outputs": [],
   "source": [
    "question = \"온톨로지란 무엇인가요?\"\n",
    "answer = rag.query(question, top_k=2)\n",
    "\n",
    "print(f\"질문: {question}\")\n",
    "print(f\"\\n답변:\\n{answer}\")"
   ]
  },
  {
   "cell_type": "markdown",
   "metadata": {},
   "source": [
    "## 5. 디버그 모드로 확인"
   ]
  },
  {
   "cell_type": "code",
   "execution_count": null,
   "metadata": {},
   "outputs": [],
   "source": [
    "question = \"OWL이 뭐야?\"\n",
    "answer = rag.query(question, top_k=2, debug=True)\n",
    "\n",
    "print(f\"\\n답변:\\n{answer}\")"
   ]
  },
  {
   "cell_type": "markdown",
   "metadata": {},
   "source": [
    "## 6. 저장된 문서 확인"
   ]
  },
  {
   "cell_type": "code",
   "execution_count": null,
   "metadata": {},
   "outputs": [],
   "source": [
    "results = store.get_all()\n",
    "\n",
    "print(f\"Total documents: {store.count()}\\n\")\n",
    "\n",
    "for i, (doc_id, doc) in enumerate(zip(results['ids'], results['documents'])):\n",
    "    print(f\"[{i+1}] {doc_id}: {doc}\")"
   ]
  },
  {
   "cell_type": "markdown",
   "metadata": {},
   "source": [
    "## 7. 정리"
   ]
  },
  {
   "cell_type": "code",
   "execution_count": null,
   "metadata": {},
   "outputs": [],
   "source": [
    "# Clear the collection if needed\n",
    "# store.clear()\n",
    "# print(\"✓ Collection cleared\")"
   ]
  }
 ],
 "metadata": {
  "kernelspec": {
   "display_name": "Python 3",
   "language": "python",
   "name": "python3"
  },
  "language_info": {
   "name": "python",
   "version": "3.13.0"
  }
 },
 "nbformat": 4,
 "nbformat_minor": 2
}
