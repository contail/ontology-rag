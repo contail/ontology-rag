{
 "cells": [
  {
   "cell_type": "markdown",
   "metadata": {},
   "source": [
    "# 🧠 RAG (Retrieval-Augmented Generation) 튜토리얼\n",
    "\n",
    "이 노트북에서는 RAG가 무엇인지, 왜 필요한지 실습을 통해 알아봅니다."
   ]
  },
  {
   "cell_type": "markdown",
   "metadata": {},
   "source": [
    "## 1️⃣ 문제: LLM은 모든 것을 알지 못한다\n",
    "\n",
    "먼저 LLM에게 존재하지 않는 용어를 물어봅시다."
   ]
  },
  {
   "cell_type": "code",
   "execution_count": null,
   "metadata": {},
   "outputs": [],
   "source": [
    "import httpx\n",
    "\n",
    "# LLM에 직접 질문\n",
    "def ask_llm(question):\n",
    "    response = httpx.post(\n",
    "        \"http://localhost:11434/api/generate\",\n",
    "        json={\"model\": \"qwen2.5vl:72b\", \"prompt\": question, \"stream\": False},\n",
    "        timeout=60.0\n",
    "    )\n",
    "    return response.json()[\"response\"]\n",
    "\n",
    "# 존재하지 않는 용어 질문\n",
    "question = \"PFCT가 뭐야?\"\n",
    "answer = ask_llm(question)\n",
    "print(f\"질문: {question}\")\n",
    "print(f\"답변: {answer}\")"
   ]
  },
  {
   "cell_type": "markdown",
   "metadata": {},
   "source": [
    "**결과**: LLM은 학습 데이터에 없는 정보는 모르거나 잘못된 답변을 할 수 있습니다."
   ]
  },
  {
   "cell_type": "markdown",
   "metadata": {},
   "source": [
    "## 2️⃣ 해결책: RAG - 문서를 제공하면 정확하게 답변\n",
    "\n",
    "이제 PFCT에 대한 정보를 문서로 제공하고 다시 질문해봅시다."
   ]
  },
  {
   "cell_type": "code",
   "execution_count": null,
   "metadata": {},
   "outputs": [],
   "source": [
    "# PFCT에 대한 문서 (가상의 예시)\n",
    "document = \"\"\"\n",
    "PFCT (Probabilistic Fuzzy Concept Tree)는 온톨로지 학습에서 사용되는 개념입니다.\n",
    "PFCT는 확률적 퍼지 논리를 사용하여 개념 간의 계층 구조를 표현합니다.\n",
    "주요 특징:\n",
    "1. 불확실성 처리: 확률 값으로 개념 간 관계의 신뢰도 표현\n",
    "2. 퍼지 논리: 명확하지 않은 경계를 가진 개념 표현\n",
    "3. 트리 구조: 계층적 개념 조직화\n",
    "\"\"\"\n",
    "\n",
    "# 문서와 함께 질문\n",
    "def ask_with_context(question, context):\n",
    "    prompt = f\"\"\"다음 문서를 참고하여 질문에 답변하세요.\n",
    "\n",
    "문서:\n",
    "{context}\n",
    "\n",
    "질문: {question}\n",
    "\n",
    "답변:\"\"\"\n",
    "    return ask_llm(prompt)\n",
    "\n",
    "answer = ask_with_context(\"PFCT가 뭐야?\", document)\n",
    "print(f\"답변: {answer}\")"
   ]
  },
  {
   "cell_type": "markdown",
   "metadata": {},
   "source": [
    "**결과**: 문서를 제공하니 정확한 답변을 합니다! 이것이 RAG의 핵심입니다."
   ]
  },
  {
   "cell_type": "markdown",
   "metadata": {},
   "source": [
    "## 3️⃣ RAG 시스템 사용하기\n",
    "\n",
    "이제 우리의 RAG 시스템을 사용해봅시다."
   ]
  },
  {
   "cell_type": "code",
   "execution_count": null,
   "metadata": {},
   "outputs": [],
   "source": [
    "from ontology_rag.core.rag_engine import RAGEngine\n",
    "from ontology_rag.embeddings.client import EmbeddingClient\n",
    "from ontology_rag.storage.vector_store import VectorStore\n",
    "\n",
    "# RAG 엔진 초기화\n",
    "embedder = EmbeddingClient(base_url=\"http://localhost:11434\")\n",
    "store = VectorStore()\n",
    "rag = RAGEngine(\n",
    "    llm_base_url=\"http://localhost:11434\",\n",
    "    llm_model=\"qwen2.5vl:72b\",\n",
    "    embedding_client=embedder,\n",
    "    vector_store=store,\n",
    ")\n",
    "\n",
    "print(\"✅ RAG 엔진 초기화 완료\")"
   ]
  },
  {
   "cell_type": "code",
   "execution_count": null,
   "metadata": {},
   "outputs": [],
   "source": [
    "# 문서 추가\n",
    "documents = [\n",
    "    \"\"\"PFCT (Probabilistic Fuzzy Concept Tree)는 온톨로지 학습에서 사용되는 개념입니다.\n",
    "    PFCT는 확률적 퍼지 논리를 사용하여 개념 간의 계층 구조를 표현합니다.\"\"\",\n",
    "    \n",
    "    \"\"\"PFCT의 주요 특징:\n",
    "    1. 불확실성 처리: 확률 값으로 개념 간 관계의 신뢰도 표현\n",
    "    2. 퍼지 논리: 명확하지 않은 경계를 가진 개념 표현\n",
    "    3. 트리 구조: 계층적 개념 조직화\"\"\",\n",
    "    \n",
    "    \"\"\"PFCT는 기계 학습과 지식 표현을 결합하여 자동으로 온톨로지를 구축하는 데 사용됩니다.\"\"\"\n",
    "]\n",
    "\n",
    "rag.add_documents(documents)\n",
    "print(f\"✅ {len(documents)}개 문서 추가 완료\")"
   ]
  },
  {
   "cell_type": "code",
   "execution_count": null,
   "metadata": {},
   "outputs": [],
   "source": [
    "# RAG로 질문하기\n",
    "question = \"PFCT가 뭐야?\"\n",
    "answer = rag.query(question, top_k=2, debug=True)\n",
    "print(f\"\\n질문: {question}\")\n",
    "print(f\"답변: {answer}\")"
   ]
  },
  {
   "cell_type": "markdown",
   "metadata": {},
   "source": [
    "## 4️⃣ RAG가 작동하는 방식\n",
    "\n",
    "1. **문서 저장**: 문서를 벡터(숫자 배열)로 변환하여 저장\n",
    "2. **질문 검색**: 질문과 유사한 문서를 찾음\n",
    "3. **답변 생성**: 찾은 문서를 LLM에 제공하여 답변 생성\n",
    "\n",
    "이렇게 하면 LLM이 모르는 정보도 정확하게 답변할 수 있습니다!"
   ]
  },
  {
   "cell_type": "code",
   "execution_count": null,
   "metadata": {},
   "outputs": [],
   "source": [
    "# 다른 질문들도 시도해보세요\n",
    "questions = [\n",
    "    \"PFCT의 주요 특징은?\",\n",
    "    \"PFCT는 어디에 사용되나요?\",\n",
    "    \"PFCT에서 불확실성은 어떻게 처리하나요?\"\n",
    "]\n",
    "\n",
    "for q in questions:\n",
    "    answer = rag.query(q, top_k=2)\n",
    "    print(f\"\\n질문: {q}\")\n",
    "    print(f\"답변: {answer}\")\n",
    "    print(\"-\" * 80)"
   ]
  },
  {
   "cell_type": "markdown",
   "metadata": {},
   "source": [
    "## 5️⃣ 문서가 없으면?\n",
    "\n",
    "RAG는 관련 문서가 없으면 \"정보를 찾을 수 없다\"고 답변합니다."
   ]
  },
  {
   "cell_type": "code",
   "execution_count": null,
   "metadata": {},
   "outputs": [],
   "source": [
    "# 문서에 없는 내용 질문\n",
    "question = \"양자컴퓨터가 뭐야?\"\n",
    "answer = rag.query(question, top_k=2)\n",
    "print(f\"질문: {question}\")\n",
    "print(f\"답변: {answer}\")"
   ]
  },
  {
   "cell_type": "markdown",
   "metadata": {},
   "source": [
    "## 🎯 정리\n",
    "\n",
    "- **문제**: LLM은 학습하지 않은 정보를 모름\n",
    "- **해결**: RAG로 관련 문서를 제공하여 정확한 답변 생성\n",
    "- **장점**: \n",
    "  - 최신 정보 반영 가능\n",
    "  - 도메인 특화 지식 활용\n",
    "  - 환각(hallucination) 방지\n",
    "\n",
    "이제 여러분만의 문서를 추가하고 RAG를 활용해보세요! 🚀"
   ]
  }
 ],
 "metadata": {
  "kernelspec": {
   "display_name": "Python (ontology-rag)",
   "language": "python",
   "name": "ontology-rag"
  },
  "language_info": {
   "codemirror_mode": {
    "name": "ipython",
    "version": 3
   },
   "file_extension": ".py",
   "mimetype": "text/x-python",
   "name": "python",
   "nbconvert_exporter": "python",
   "pygments_lexer": "ipython3",
   "version": "3.13.0"
  }
 },
 "nbformat": 4,
 "nbformat_minor": 4
}
