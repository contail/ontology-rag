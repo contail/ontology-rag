{
 "cells": [
  {
   "cell_type": "markdown",
   "metadata": {},
   "source": [
    "# 🧠 RAG (Retrieval-Augmented Generation) 튜토리얼\n",
    "\n",
    "이 노트북에서는 RAG가 무엇인지, 왜 필요한지 실습을 통해 알아봅니다."
   ]
  },
  {
   "cell_type": "markdown",
   "metadata": {},
   "source": [
    "## 1️⃣ 문제: LLM은 모든 것을 알지 못한다\n",
    "\n",
    "먼저 LLM에게 우리 회사에 대해 물어봅시다."
   ]
  },
  {
   "cell_type": "code",
   "execution_count": 8,
   "metadata": {},
   "outputs": [
    {
     "name": "stdout",
     "output_type": "stream",
     "text": [
      "질문: PFCT가 뭐야?\n",
      "답변: \"PFCT\"는 \"Perfect\"의 약자로, 완벽한 것을 의미합니다. 이 용어는 주로 인터넷에서 사용되며, 특히 게임이나 스포츠에서 완벽한 성과를 달성했을 때 사용됩니다. 예를 들어, 어떤 게임에서 모든 레벨을 완벽하게 클리어했을 때 \"PFCT\"라고 말할 수 있습니다.\n"
     ]
    }
   ],
   "source": [
    "import httpx\n",
    "import os\n",
    "from dotenv import load_dotenv\n",
    "\n",
    "load_dotenv()\n",
    "LLM_BASE_URL = os.getenv(\"LLM_BASE_URL\", \"http://localhost:11434\")\n",
    "LLM_MODEL = os.getenv(\"LLM_MODEL\", \"qwen2.5vl:72b\")\n",
    "\n",
    "# LLM에 직접 질문\n",
    "def ask_llm(question):\n",
    "    response = httpx.post(\n",
    "        f\"{LLM_BASE_URL}/api/generate\",\n",
    "        json={\"model\": LLM_MODEL, \"prompt\": question, \"stream\": False},\n",
    "        timeout=60.0\n",
    "    )\n",
    "    return response.json()[\"response\"]\n",
    "\n",
    "# 우리 회사에 대해 질문\n",
    "question = \"PFCT가 뭐야?\"\n",
    "answer = ask_llm(question)\n",
    "print(f\"질문: {question}\")\n",
    "print(f\"답변: {answer}\")"
   ]
  },
  {
   "cell_type": "markdown",
   "metadata": {},
   "source": [
    "**결과**: LLM은 학습 데이터에 없는 최신 정보나 회사 내부 정보를 모릅니다."
   ]
  },
  {
   "cell_type": "markdown",
   "metadata": {},
   "source": [
    "## 2️⃣ 해결책: RAG - 문서를 제공하면 정확하게 답변\n",
    "\n",
    "이제 PFCT에 대한 정보를 문서로 제공하고 다시 질문해봅시다."
   ]
  },
  {
   "cell_type": "code",
   "execution_count": 9,
   "metadata": {},
   "outputs": [
    {
     "name": "stdout",
     "output_type": "stream",
     "text": [
      "답변: PFCT는 PFC Technologies의 약자로, 한국의 선도적인 핀테크(FinTech) 기업입니다. 이 회사는 온라인투자연계금융(온투금융) 플랫폼인 '크플(cple)'과 AI 기반 신용 리스크 관리 B2B 솔루션인 '에어팩(AIRPACK)'을 주요 사업으로 하고 있습니다. PFCT의 목표는 금융 취약 계층에게 합리적인 중금리 대출 기회를 제공하고, 투자자에게 안정적인 투자 수익을 제공하는 것입니다. 이 회사는 대한민국 온투금융사 1호 등록, 2022년 Forbes Asia 100 to Watch 선정, 비은행권 최고의 AI 신용평가 기술력 보유 등의 주요 성과를 이루었습니다. 2024년 3월에 피플펀드컴퍼니에서 피에프씨테크놀로지스로 사명을 변경하고, 플랫폼 브랜드명도 '피플펀드'에서 '크플'로 통합하였습니다.\n"
     ]
    }
   ],
   "source": [
    "# PFCT 회사 정보 문서\n",
    "document = \"\"\"\n",
    "PFCT(PFC Technologies, 피에프씨테크놀로지스)는 대한민국의 선도적인 핀테크(FinTech) 기업입니다.\n",
    "\n",
    "주요 사업:\n",
    "- 크플(cple): 온라인투자연계금융(온투금융) 플랫폼으로 대출자와 투자자를 연결\n",
    "- 에어팩(AIRPACK): AI 기반 신용 리스크 관리 B2B 솔루션\n",
    "\n",
    "서비스 목표:\n",
    "- 금융 취약 계층에게 합리적인 중금리 대출 기회 제공\n",
    "- 투자자에게 연 10% 내외의 안정적인 투자 수익 제공\n",
    "\n",
    "주요 성과:\n",
    "- 대한민국 온투금융사 1호 등록\n",
    "- 2022년 Forbes Asia 100 to Watch 선정\n",
    "- 비은행권 최고의 AI 신용평가 기술력 보유\n",
    "\n",
    "연혁:\n",
    "- 2024년 3월: 피플펀드컴퍼니에서 피에프씨테크놀로지스로 사명 변경\n",
    "- 플랫폼 브랜드명도 '피플펀드'에서 '크플'로 통합\n",
    "\"\"\"\n",
    "\n",
    "# 문서와 함께 질문\n",
    "def ask_with_context(question, context):\n",
    "    prompt = f\"\"\"다음 문서를 참고하여 질문에 답변하세요.\n",
    "\n",
    "문서:\n",
    "{context}\n",
    "\n",
    "질문: {question}\n",
    "\n",
    "답변:\"\"\"\n",
    "    return ask_llm(prompt)\n",
    "\n",
    "answer = ask_with_context(\"PFCT가 뭐야?\", document)\n",
    "print(f\"답변: {answer}\")"
   ]
  },
  {
   "cell_type": "markdown",
   "metadata": {},
   "source": [
    "**결과**: 문서를 제공하니 정확한 답변을 합니다! 이것이 RAG의 핵심입니다."
   ]
  },
  {
   "cell_type": "markdown",
   "metadata": {},
   "source": [
    "## 3️⃣ RAG 시스템 사용하기\n",
    "\n",
    "이제 우리의 RAG 시스템을 사용해봅시다."
   ]
  },
  {
   "cell_type": "code",
   "execution_count": 10,
   "metadata": {},
   "outputs": [
    {
     "name": "stdout",
     "output_type": "stream",
     "text": [
      "✅ RAG 엔진 초기화 완료\n"
     ]
    }
   ],
   "source": [
    "from ontology_rag.core.rag_engine import RAGEngine\n",
    "from ontology_rag.embeddings.client import EmbeddingClient\n",
    "from ontology_rag.storage.vector_store import VectorStore\n",
    "\n",
    "# RAG 엔진 초기화\n",
    "embedder = EmbeddingClient(base_url=LLM_BASE_URL)\n",
    "store = VectorStore()\n",
    "rag = RAGEngine(\n",
    "    llm_base_url=LLM_BASE_URL,\n",
    "    llm_model=LLM_MODEL,\n",
    "    embedding_client=embedder,\n",
    "    vector_store=store,\n",
    ")\n",
    "\n",
    "print(\"✅ RAG 엔진 초기화 완료\")"
   ]
  },
  {
   "cell_type": "code",
   "execution_count": 11,
   "metadata": {},
   "outputs": [
    {
     "name": "stdout",
     "output_type": "stream",
     "text": [
      "✅ 3개 문서 추가 완료\n"
     ]
    }
   ],
   "source": [
    "# 회사 정보 문서 추가\n",
    "documents = [\n",
    "    \"\"\"PFCT(PFC Technologies, 피에프씨테크놀로지스)는 대한민국의 선도적인 핀테크 기업입니다.\n",
    "    온라인투자연계금융 플랫폼 '크플(cple)'을 운영하며, 대출자와 투자자를 연결합니다.\"\"\",\n",
    "    \n",
    "    \"\"\"PFCT의 주요 제품:\n",
    "    1. 크플(cple): 온투금융 플랫폼, 중금리 대출과 투자 연결\n",
    "    2. 에어팩(AIRPACK): AI 기반 신용 리스크 관리 B2B 솔루션\n",
    "    3. 비은행권 최고의 AI 신용평가 기술력 보유\"\"\",\n",
    "    \n",
    "    \"\"\"PFCT 주요 성과:\n",
    "    - 대한민국 온투금융사 1호 등록\n",
    "    - 2022년 Forbes Asia 100 to Watch 선정\n",
    "    - 2024년 3월 피플펀드컴퍼니에서 피에프씨테크놀로지스로 사명 변경\n",
    "    - 투자자에게 연 10% 내외의 안정적인 수익 제공\"\"\"\n",
    "]\n",
    "\n",
    "rag.add_documents(documents)\n",
    "print(f\"✅ {len(documents)}개 문서 추가 완료\")"
   ]
  },
  {
   "cell_type": "code",
   "execution_count": 12,
   "metadata": {},
   "outputs": [
    {
     "name": "stdout",
     "output_type": "stream",
     "text": [
      "Search results: {'ids': [['doc_0', 'doc_1']], 'embeddings': None, 'documents': [[\"PFCT(PFC Technologies, 피에프씨테크놀로지스)는 대한민국의 선도적인 핀테크 기업입니다.\\n    온라인투자연계금융 플랫폼 '크플(cple)'을 운영하며, 대출자와 투자자를 연결합니다.\", 'PFCT의 주요 제품:\\n    1. 크플(cple): 온투금융 플랫폼, 중금리 대출과 투자 연결\\n    2. 에어팩(AIRPACK): AI 기반 신용 리스크 관리 B2B 솔루션\\n    3. 비은행권 최고의 AI 신용평가 기술력 보유']], 'uris': None, 'included': ['metadatas', 'documents', 'distances'], 'data': None, 'metadatas': [[None, None]], 'distances': [[96.59842681884766, 151.52749633789062]]}\n",
      "Found 2 documents\n",
      "Doc 1: PFCT(PFC Technologies, 피에프씨테크놀로지스)는 대한민국의 선도적인 핀테크 기업입니다.\n",
      "    온라인투자연계금융 플랫폼 '크플(cple)'을 운영하며, 대출자와 투\n",
      "Doc 2: PFCT의 주요 제품:\n",
      "    1. 크플(cple): 온투금융 플랫폼, 중금리 대출과 투자 연결\n",
      "    2. 에어팩(AIRPACK): AI 기반 신용 리스크 관리 B2B 솔루션\n",
      " \n",
      "\n",
      "질문: PFCT가 뭐야?\n",
      "답변: PFCT는 대한민국의 선도적인 핀테크 기업입니다. 이 회사는 온라인투자연계금융 플랫폼 '크플(cple)'을 운영하며, 대출자와 투자자를 연결합니다. 또한, PFCT는 AI 기반 신용 리스크 관리 B2B 솔루션 '에어팩(AIRPACK)'을 제공하며, 비은행권 최고의 AI 신용평가 기술력을 보유하고 있습니다.\n"
     ]
    }
   ],
   "source": [
    "# RAG로 질문하기\n",
    "question = \"PFCT가 뭐야?\"\n",
    "answer = rag.query(question, top_k=2, debug=True)\n",
    "print(f\"\\n질문: {question}\")\n",
    "print(f\"답변: {answer}\")"
   ]
  },
  {
   "cell_type": "markdown",
   "metadata": {},
   "source": [
    "## 4️⃣ RAG가 작동하는 방식\n",
    "\n",
    "1. **문서 저장**: 문서를 벡터(숫자 배열)로 변환하여 저장\n",
    "2. **질문 검색**: 질문과 유사한 문서를 찾음\n",
    "3. **답변 생성**: 찾은 문서를 LLM에 제공하여 답변 생성\n",
    "\n",
    "이렇게 하면 LLM이 모르는 정보도 정확하게 답변할 수 있습니다!"
   ]
  },
  {
   "cell_type": "code",
   "execution_count": 13,
   "metadata": {},
   "outputs": [
    {
     "name": "stdout",
     "output_type": "stream",
     "text": [
      "\n",
      "질문: 크플이 뭐야?\n",
      "답변: 크플(cple)은 PFCT가 운영하는 온라인투자연계금융 플랫폼으로, 대출자와 투자자를 연결합니다. 또한, 이 플랫폼은 중금리 대출과 투자를 연결하는 역할을 합니다.\n",
      "--------------------------------------------------------------------------------\n",
      "\n",
      "질문: 에어팩은 무슨 제품이야?\n",
      "답변: 에어팩(AIRPACK)은 AI 기반 신용 리스크 관리 B2B 솔루션입니다.\n",
      "--------------------------------------------------------------------------------\n",
      "\n",
      "질문: PFCT의 주요 성과는?\n",
      "답변: 문서에서 PFCT의 주요 성과에 대한 정보를 찾을 수 없습니다. 문서에는 PFCT의 주요 제품과 서비스에 대한 설명이 있지만, 구체적인 성과나 성과 지표에 대한 내용은 포함되어 있지 않습니다.\n",
      "--------------------------------------------------------------------------------\n",
      "\n",
      "질문: 피플펀드와 PFCT의 관계는?\n",
      "답변: 문서에서 해당 정보를 찾을 수 없습니다.\n",
      "--------------------------------------------------------------------------------\n"
     ]
    }
   ],
   "source": [
    "# 다양한 질문 시도\n",
    "questions = [\n",
    "    \"크플이 뭐야?\",\n",
    "    \"에어팩은 무슨 제품이야?\",\n",
    "    \"PFCT의 주요 성과는?\",\n",
    "    \"피플펀드와 PFCT의 관계는?\"\n",
    "]\n",
    "\n",
    "for q in questions:\n",
    "    answer = rag.query(q, top_k=2)\n",
    "    print(f\"\\n질문: {q}\")\n",
    "    print(f\"답변: {answer}\")\n",
    "    print(\"-\" * 80)"
   ]
  },
  {
   "cell_type": "markdown",
   "metadata": {},
   "source": [
    "## 5️⃣ 문서가 없으면?\n",
    "\n",
    "RAG는 관련 문서가 없으면 \"정보를 찾을 수 없다\"고 답변합니다."
   ]
  },
  {
   "cell_type": "code",
   "execution_count": 14,
   "metadata": {},
   "outputs": [
    {
     "name": "stdout",
     "output_type": "stream",
     "text": [
      "질문: 양자컴퓨터가 뭐야?\n",
      "답변: 문서에서 해당 정보를 찾을 수 없습니다.\n"
     ]
    }
   ],
   "source": [
    "# 문서에 없는 내용 질문\n",
    "question = \"양자컴퓨터가 뭐야?\"\n",
    "answer = rag.query(question, top_k=2)\n",
    "print(f\"질문: {question}\")\n",
    "print(f\"답변: {answer}\")"
   ]
  },
  {
   "cell_type": "markdown",
   "metadata": {},
   "source": [
    "## 🎯 정리\n",
    "\n",
    "- **문제**: LLM은 학습하지 않은 정보(회사 내부 정보, 최신 정보)를 모름\n",
    "- **해결**: RAG로 관련 문서를 제공하여 정확한 답변 생성\n",
    "- **장점**: \n",
    "  - 최신 정보 반영 가능\n",
    "  - 회사 내부 지식 활용\n",
    "  - 환각(hallucination) 방지\n",
    "  - 출처 추적 가능\n",
    "\n",
    "## 💡 활용 사례\n",
    "\n",
    "- 사내 문서 검색 및 Q&A\n",
    "- 고객 지원 챗봇\n",
    "- 규정/매뉴얼 기반 답변\n",
    "- 금융 상품 설명\n",
    "\n",
    "이제 여러분의 문서를 추가하고 RAG를 활용해보세요! 🚀"
   ]
  }
 ],
 "metadata": {
  "kernelspec": {
   "display_name": "Python (ontology-rag)",
   "language": "python",
   "name": "ontology-rag"
  },
  "language_info": {
   "codemirror_mode": {
    "name": "ipython",
    "version": 3
   },
   "file_extension": ".py",
   "mimetype": "text/x-python",
   "name": "python",
   "nbconvert_exporter": "python",
   "pygments_lexer": "ipython3",
   "version": "3.13.9"
  }
 },
 "nbformat": 4,
 "nbformat_minor": 4
}
