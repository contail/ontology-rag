{
 "cells": [
  {
   "cell_type": "markdown",
   "metadata": {},
   "source": [
    "# 📚 RAG 실전 활용 예제\n",
    "\n",
    "실무에서 바로 사용할 수 있는 RAG 활용법을 배워봅시다."
   ]
  },
  {
   "cell_type": "markdown",
   "metadata": {},
   "source": [
    "## 🔧 준비: RAG 엔진 초기화"
   ]
  },
  {
   "cell_type": "code",
   "execution_count": 1,
   "metadata": {},
   "outputs": [
    {
     "name": "stdout",
     "output_type": "stream",
     "text": [
      "✅ RAG 엔진 준비 완료\n"
     ]
    }
   ],
   "source": [
    "import os\n",
    "from dotenv import load_dotenv\n",
    "from ontology_rag.core.rag_engine import RAGEngine\n",
    "from ontology_rag.embeddings.client import EmbeddingClient\n",
    "from ontology_rag.storage.vector_store import VectorStore\n",
    "\n",
    "load_dotenv()\n",
    "LLM_BASE_URL = os.getenv(\"LLM_BASE_URL\", \"http://localhost:11434\")\n",
    "LLM_MODEL = os.getenv(\"LLM_MODEL\", \"qwen2.5vl:72b\")\n",
    "\n",
    "embedder = EmbeddingClient(base_url=LLM_BASE_URL)\n",
    "store = VectorStore()\n",
    "rag = RAGEngine(\n",
    "    llm_base_url=LLM_BASE_URL,\n",
    "    llm_model=LLM_MODEL,\n",
    "    embedding_client=embedder,\n",
    "    vector_store=store,\n",
    ")\n",
    "\n",
    "print(\"✅ RAG 엔진 준비 완료\")"
   ]
  },
  {
   "cell_type": "markdown",
   "metadata": {},
   "source": [
    "## 1️⃣ 텍스트 파일에서 문서 불러오기\n",
    "\n",
    "실무에서는 보통 파일로 문서를 관리합니다."
   ]
  },
  {
   "cell_type": "code",
   "execution_count": 4,
   "metadata": {},
   "outputs": [
    {
     "name": "stdout",
     "output_type": "stream",
     "text": [
      "✅ 4개 문서 추가 완료\n",
      "\n",
      "첫 번째 문서 미리보기:\n",
      "What is Ontology?...\n"
     ]
    }
   ],
   "source": [
    "from pathlib import Path\n",
    "\n",
    "# 파일에서 문서 읽기\n",
    "file_path = \"../data/my_document.txt\"\n",
    "\n",
    "if Path(file_path).exists():\n",
    "    content = Path(file_path).read_text(encoding=\"utf-8\")\n",
    "    \n",
    "    # 문단별로 나누기\n",
    "    chunks = [chunk.strip() for chunk in content.split(\"\\n\\n\") if chunk.strip()]\n",
    "    \n",
    "    rag.add_documents(chunks)\n",
    "    print(f\"✅ {len(chunks)}개 문서 추가 완료\")\n",
    "    print(f\"\\n첫 번째 문서 미리보기:\\n{chunks[0][:100]}...\")\n",
    "else:\n",
    "    print(\"⚠️ 파일이 없습니다. data/my_document.txt 파일을 만들어주세요.\")"
   ]
  },
  {
   "cell_type": "markdown",
   "metadata": {},
   "source": [
    "## 2️⃣ 검색 결과 확인하기 (디버그 모드)\n",
    "\n",
    "`debug=True`로 어떤 문서가 검색되는지 확인할 수 있습니다."
   ]
  },
  {
   "cell_type": "code",
   "execution_count": 10,
   "metadata": {
    "jupyter": {
     "is_executing": true
    }
   },
   "outputs": [
    {
     "name": "stdout",
     "output_type": "stream",
     "text": [
      "🔍 검색 중...\n",
      "\n",
      "Search results: {'ids': [['doc_3', 'doc_1', 'doc_0', 'doc_2']], 'embeddings': None, 'documents': [['1. Domain Ontology: Represents concepts specific to a particular domain\\n2. Upper Ontology: Describes general concepts that are the same across all domains\\n3. Task Ontology: Describes concepts related to a specific task or activity', 'PFCT의 주요 제품:\\n    1. 크플(cple): 온투금융 플랫폼, 중금리 대출과 투자 연결\\n    2. 에어팩(AIRPACK): AI 기반 신용 리스크 관리 B2B 솔루션\\n    3. 비은행권 최고의 AI 신용평가 기술력 보유', \"PFCT(PFC Technologies, 피에프씨테크놀로지스)는 대한민국의 선도적인 핀테크 기업입니다.\\n    온라인투자연계금융 플랫폼 '크플(cple)'을 운영하며, 대출자와 투자자를 연결합니다.\", 'PFCT 주요 성과:\\n    - 대한민국 온투금융사 1호 등록\\n    - 2022년 Forbes Asia 100 to Watch 선정\\n    - 2024년 3월 피플펀드컴퍼니에서 피에프씨테크놀로지스로 사명 변경\\n    - 투자자에게 연 10% 내외의 안정적인 수익 제공']], 'uris': None, 'included': ['metadatas', 'documents', 'distances'], 'data': None, 'metadatas': [[None, None, None, None]], 'distances': [[203.50357055664062, 423.38555908203125, 434.1642761230469, 477.80059814453125]]}\n",
      "Found 4 documents\n",
      "Doc 1: 1. Domain Ontology: Represents concepts specific to a particular domain\n",
      "2. Upper Ontology: Describes\n",
      "Doc 2: PFCT의 주요 제품:\n",
      "    1. 크플(cple): 온투금융 플랫폼, 중금리 대출과 투자 연결\n",
      "    2. 에어팩(AIRPACK): AI 기반 신용 리스크 관리 B2B 솔루션\n",
      " \n",
      "Doc 3: PFCT(PFC Technologies, 피에프씨테크놀로지스)는 대한민국의 선도적인 핀테크 기업입니다.\n",
      "    온라인투자연계금융 플랫폼 '크플(cple)'을 운영하며, 대출자와 투\n",
      "Doc 4: PFCT 주요 성과:\n",
      "    - 대한민국 온투금융사 1호 등록\n",
      "    - 2022년 Forbes Asia 100 to Watch 선정\n",
      "    - 2024년 3월 피플펀드컴퍼니에서 \n",
      "\n",
      "💬 최종 답변:\n",
      "Ontology is a representation of concepts. There are three types mentioned in the provided documents:\n",
      "\n",
      "1. Domain Ontology: Represents concepts specific to a particular domain.\n",
      "2. Upper Ontology: Describes general concepts that are the same across all domains.\n",
      "3. Task Ontology: Describes concepts related to a specific task or activity.\n"
     ]
    }
   ],
   "source": [
    "question = \"온톨로지가 뭐야?\"\n",
    "\n",
    "print(\"🔍 검색 중...\\n\")\n",
    "answer = rag.query(question, top_k=6, debug=True)\n",
    "\n",
    "print(f\"\\n💬 최종 답변:\\n{answer}\")"
   ]
  },
  {
   "cell_type": "markdown",
   "metadata": {},
   "source": [
    "## 3️⃣ top_k 값 비교하기\n",
    "\n",
    "`top_k`는 검색할 문서 개수입니다. 값에 따라 답변이 어떻게 달라지는지 확인해봅시다."
   ]
  },
  {
   "cell_type": "code",
   "execution_count": 7,
   "metadata": {},
   "outputs": [
    {
     "name": "stdout",
     "output_type": "stream",
     "text": [
      "\n",
      "================================================================================\n",
      "📊 top_k = 1\n",
      "================================================================================\n",
      "답변: 문서에서 해당 정보를 찾을 수 없습니다.\n",
      "\n",
      "================================================================================\n",
      "📊 top_k = 2\n",
      "================================================================================\n",
      "답변: 문서에서 해당 정보를 찾을 수 없습니다.\n",
      "\n",
      "================================================================================\n",
      "📊 top_k = 3\n",
      "================================================================================\n",
      "답변: 문서에서 해당 정보를 찾을 수 없습니다.\n"
     ]
    }
   ],
   "source": [
    "question = \"온톨로지의 종류는?\"\n",
    "\n",
    "for k in [1, 2, 3]:\n",
    "    print(f\"\\n{'='*80}\")\n",
    "    print(f\"📊 top_k = {k}\")\n",
    "    print(f\"{'='*80}\")\n",
    "    \n",
    "    answer = rag.query(question, top_k=k)\n",
    "    print(f\"답변: {answer}\")"
   ]
  },
  {
   "cell_type": "markdown",
   "metadata": {},
   "source": [
    "**관찰 포인트:**\n",
    "- `top_k=1`: 가장 관련 높은 문서 1개만 사용 → 빠르지만 정보 부족 가능\n",
    "- `top_k=3`: 여러 문서 참고 → 더 풍부한 답변, 하지만 느림\n",
    "- `top_k=6+`: 관련 없는 문서까지 포함될 수 있음 → 답변 품질 저하\n",
    "- **권장**: 일반적으로 2-3이 적당\n",
    "\n",
    "**⚠️ 주의**: k 값이 너무 크면 관련 없는 문서가 섞여서 LLM이 혼란스러워합니다!"
   ]
  },
  {
   "cell_type": "markdown",
   "metadata": {},
   "source": [
    "## 4️⃣ 저장된 문서 확인하기"
   ]
  },
  {
   "cell_type": "code",
   "execution_count": null,
   "metadata": {},
   "outputs": [],
   "source": [
    "# 전체 문서 개수\n",
    "count = store.count()\n",
    "print(f\"📚 저장된 문서: {count}개\\n\")\n",
    "\n",
    "# 문서 목록 보기\n",
    "results = store.get_all()\n",
    "\n",
    "for i, (doc_id, doc) in enumerate(zip(results['ids'], results['documents']), 1):\n",
    "    preview = doc[:80] + \"...\" if len(doc) > 80 else doc\n",
    "    print(f\"{i}. [{doc_id}]\")\n",
    "    print(f\"   {preview}\\n\")"
   ]
  },
  {
   "cell_type": "markdown",
   "metadata": {},
   "source": [
    "## 5️⃣ 문서 초기화 (다시 시작하기)"
   ]
  },
  {
   "cell_type": "code",
   "execution_count": null,
   "metadata": {},
   "outputs": [],
   "source": [
    "# 주의: 모든 문서가 삭제됩니다!\n",
    "# store.clear()\n",
    "# print(\"🗑️ 모든 문서 삭제 완료\")\n",
    "\n",
    "print(\"⚠️ 위 코드의 주석을 해제하면 모든 문서가 삭제됩니다.\")"
   ]
  },
  {
   "cell_type": "markdown",
   "metadata": {},
   "source": [
    "## 6️⃣ 실무 시나리오: 금융 상품 Q&A"
   ]
  },
  {
   "cell_type": "code",
   "execution_count": null,
   "metadata": {},
   "outputs": [],
   "source": [
    "# 금융 상품 정보 추가\n",
    "product_docs = [\n",
    "    \"\"\"크플 투자 상품 안내\n",
    "    - 최소 투자금액: 10만원\n",
    "    - 예상 수익률: 연 8-12%\n",
    "    - 투자 기간: 3개월, 6개월, 12개월 선택 가능\n",
    "    - 중도 해지: 가능 (수수료 발생)\"\"\",\n",
    "    \n",
    "    \"\"\"크플 대출 상품 안내\n",
    "    - 대출 한도: 최대 3,000만원\n",
    "    - 금리: 연 8-15% (신용등급에 따라 차등)\n",
    "    - 상환 방식: 원리금균등분할상환, 만기일시상환\n",
    "    - 중도상환 수수료: 없음\"\"\",\n",
    "    \n",
    "    \"\"\"크플 회원 가입 방법\n",
    "    1. 크플 앱 다운로드 또는 웹사이트 접속\n",
    "    2. 본인 인증 (휴대폰, 신용카드)\n",
    "    3. 계좌 연결\n",
    "    4. 투자자 적합성 테스트 완료\n",
    "    5. 가입 완료 (약 5분 소요)\"\"\"\n",
    "]\n",
    "\n",
    "# 기존 문서 초기화 후 새 문서 추가\n",
    "store.clear()\n",
    "rag.add_documents(product_docs)\n",
    "print(f\"✅ {len(product_docs)}개 상품 정보 추가 완료\\n\")"
   ]
  },
  {
   "cell_type": "code",
   "execution_count": null,
   "metadata": {},
   "outputs": [],
   "source": [
    "# 고객 질문 시뮬레이션\n",
    "customer_questions = [\n",
    "    \"최소 투자금액이 얼마야?\",\n",
    "    \"대출 금리는 어떻게 되나요?\",\n",
    "    \"회원가입은 어떻게 하나요?\",\n",
    "    \"중도 해지 가능한가요?\"\n",
    "]\n",
    "\n",
    "print(\"💬 고객 Q&A 시뮬레이션\\n\")\n",
    "print(\"=\"*80)\n",
    "\n",
    "for q in customer_questions:\n",
    "    answer = rag.query(q, top_k=2)\n",
    "    print(f\"\\n고객: {q}\")\n",
    "    print(f\"상담원: {answer}\")\n",
    "    print(\"-\"*80)"
   ]
  },
  {
   "cell_type": "markdown",
   "metadata": {},
   "source": [
    "## 7️⃣ 답변이 이상할 때 체크리스트\n",
    "\n",
    "### ❌ 문제: \"정보를 찾을 수 없습니다\"\n",
    "**해결:**\n",
    "1. 문서가 제대로 추가되었는지 확인: `store.count()`\n",
    "2. 질문과 문서의 표현이 너무 다른지 확인\n",
    "3. `top_k` 값을 늘려보기\n",
    "\n",
    "### ❌ 문제: 엉뚱한 답변\n",
    "**해결:**\n",
    "1. `debug=True`로 어떤 문서가 검색되는지 확인\n",
    "2. 문서를 더 작은 단위로 나누기\n",
    "3. 관련 없는 문서 삭제\n",
    "\n",
    "### ❌ 문제: 너무 느림\n",
    "**해결:**\n",
    "1. `top_k` 값 줄이기 (3 → 2 → 1)\n",
    "2. 문서 개수 줄이기\n",
    "3. 더 작은 LLM 모델 사용"
   ]
  },
  {
   "cell_type": "markdown",
   "metadata": {},
   "source": [
    "## 🎯 다음 단계\n",
    "\n",
    "1. **여러분의 문서로 실험해보세요**\n",
    "   - 회사 규정, 매뉴얼, FAQ 등\n",
    "   \n",
    "2. **CLI로 사용하기**\n",
    "   ```bash\n",
    "   ontology-rag add data/my_doc.txt\n",
    "   ontology-rag query \"질문\"\n",
    "   ```\n",
    "\n",
    "3. **더 배우기**\n",
    "   - 프롬프트 엔지니어링\n",
    "   - 하이브리드 검색\n",
    "   - 멀티모달 RAG (이미지, 표 포함)"
   ]
  }
 ],
 "metadata": {
  "kernelspec": {
   "display_name": "Python (ontology-rag)",
   "language": "python",
   "name": "ontology-rag"
  },
  "language_info": {
   "codemirror_mode": {
    "name": "ipython",
    "version": 3
   },
   "file_extension": ".py",
   "mimetype": "text/x-python",
   "name": "python",
   "nbconvert_exporter": "python",
   "pygments_lexer": "ipython3",
   "version": "3.13.9"
  }
 },
 "nbformat": 4,
 "nbformat_minor": 4
}
